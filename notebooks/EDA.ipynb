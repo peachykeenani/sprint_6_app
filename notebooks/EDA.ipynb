{
 "cells": [
  {
   "cell_type": "code",
   "execution_count": null,
   "metadata": {},
   "outputs": [],
   "source": [
    "import streamlit as st\n",
    "import pandas as pd\n",
    "import plotly.express as px"
   ]
  },
  {
   "cell_type": "code",
   "execution_count": null,
   "metadata": {},
   "outputs": [],
   "source": [
    "# Loaded the used cars dataset.\n",
    "df = pd.read_csv('vehicles_us.csv')\n",
    "# Created new column 'manufacturer' \n",
    "# by getting the first word from the 'model' column.\n",
    "df['manufacturer'] = df['model'].apply(lambda x: x.split()[0])\n",
    "# Replaced all missing values from 'is_4wd' column with 0.\n",
    "df['is_4wd'] = df['is_4wd'].fillna(0)\n",
    "# Renamed 'price' column to 'price_$'.\n",
    "df.rename(columns={'price':'price_$'}, inplace=True)"
   ]
  },
  {
   "cell_type": "code",
   "execution_count": null,
   "metadata": {},
   "outputs": [],
   "source": [
    "# Created a histogram of vehicle condition by manufacturer.\n",
    "st.header('Vehicle condition by manufacturer')\n",
    "# Created a Plotly histogram figure.\n",
    "fig = px.histogram(df, x='manufacturer',\n",
    "                   color='condition',\n",
    "                   )\n",
    "# Displayed the figure with Streamlit.\n",
    "st.write(fig)\n",
    "st.divider()"
   ]
  },
  {
   "cell_type": "code",
   "execution_count": null,
   "metadata": {},
   "outputs": [],
   "source": [
    "# Created a bar chart of vehicle condition by price.\n",
    "st.header('Vehicle condition by price')\n",
    "# Created a Plotly bar chart figure.\n",
    "fig = px.bar(x='condition',\n",
    "             y='price_$',\n",
    "             color='condition'\n",
    "             )\n",
    "# Sorted bar chart by 'condition' in descending order.\n",
    "fig.update_layout(xaxis={'categoryorder':'array',\n",
    "                         'categoryarray':'descending'}\n",
    "                )\n",
    "# Displayed the figure with Streamlit.\n",
    "st.write(fig)\n",
    "st.divider()"
   ]
  }
 ],
 "metadata": {
  "language_info": {
   "name": "python"
  }
 },
 "nbformat": 4,
 "nbformat_minor": 2
}
