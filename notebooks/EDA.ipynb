{
 "cells": [
  {
   "cell_type": "code",
   "execution_count": null,
   "metadata": {},
   "outputs": [],
   "source": [
    "import streamlit as st\n",
    "import pandas as pd\n",
    "import plotly as px"
   ]
  },
  {
   "cell_type": "code",
   "execution_count": null,
   "metadata": {},
   "outputs": [],
   "source": [
    "# Loaded the used cars dataset.\n",
    "df = pd.read_csv('vehicles_us.csv')\n",
    "# Created new column 'manufacturer' \n",
    "# by getting the first word from the 'model' column.\n",
    "df['manufacturer'] = df['model'].apply(lambda x: x.split()[0])\n",
    "# Replaced all missing values from 'is_4wd' column with 0.\n",
    "df['is_4wd'] = df['is_4wd'].fillna(0)\n",
    "# Renamed 'price' column to 'price_$'.\n",
    "df.rename(columns={'price':'price_$'}, inplace=True)"
   ]
  },
  {
   "cell_type": "code",
   "execution_count": null,
   "metadata": {},
   "outputs": [],
   "source": [
    "# Created a histogram that displays the manufacturers by vehicle condition.\n",
    "st.header('Manufacturers by vehicle condition')\n",
    "# Created a Plotly histogram figure.\n",
    "fig = px.bar(df, x='manufacturer',\n",
    "             y='condition',\n",
    "             color='condition'\n",
    "             )\n",
    "# Displayed the figure with Streamlit.\n",
    "st.write(fig)\n",
    "st.divider()"
   ]
  }
 ],
 "metadata": {
  "language_info": {
   "name": "python"
  }
 },
 "nbformat": 4,
 "nbformat_minor": 2
}
